{
 "cells": [
  {
   "cell_type": "markdown",
   "metadata": {},
   "source": [
    "# Sonos Project\n",
    "\n",
    "Learn How to build Full Stack App + Machine Learning"
   ]
  },
  {
   "cell_type": "markdown",
   "metadata": {},
   "source": [
    "## Stock API Example\n",
    "\n",
    "https://www.alphavantage.co/query?function=TIME_SERIES_DAILY&symbol=BBRI.JK&apikey=MWS5CUQWP4SDJK9L&datatype=csv"
   ]
  },
  {
   "cell_type": "markdown",
   "metadata": {},
   "source": [
    "## Import Dependencies"
   ]
  },
  {
   "cell_type": "code",
   "execution_count": 1,
   "metadata": {},
   "outputs": [],
   "source": [
    "import matplotlib.pyplot as plt\n",
    "plt.style.use('bmh')\n",
    "import pandas as pd"
   ]
  },
  {
   "cell_type": "markdown",
   "metadata": {},
   "source": [
    "## Give Stock Symbol and Day to Predict"
   ]
  },
  {
   "cell_type": "code",
   "execution_count": 2,
   "metadata": {},
   "outputs": [],
   "source": [
    "stock_symbol = 'BSDE'\n",
    "future_days = 5"
   ]
  },
  {
   "cell_type": "markdown",
   "metadata": {},
   "source": [
    "## Read Original Data"
   ]
  },
  {
   "cell_type": "code",
   "execution_count": 3,
   "metadata": {},
   "outputs": [],
   "source": [
    "import math\n",
    "\n",
    "stock_daily_data = pd.read_json(f\"https://www.alphavantage.co/query?function=TIME_SERIES_DAILY&symbol={stock_symbol}.JK&apikey=MWS5CUQWP4SDJK9L&outputsize=compact&datatype=json\") \n",
    "\n",
    "def convert_response(data):\n",
    "    # convert the response into datetimerecords that can be\n",
    "    # parsed by Pandas\n",
    "    # counter is used to skip 5 first data\n",
    "    counter = 0\n",
    "    for date_time, value in data['Time Series (Daily)'].items():  \n",
    "        if counter > 4:\n",
    "            r = { 'datetime': date_time}\n",
    "            r.update(value)\n",
    "            yield r\n",
    "            \n",
    "        counter+=1\n",
    "        \n",
    "def df_from_response(data,\n",
    "         columns=['Open', 'High', 'Low', 'Close']):\n",
    "\n",
    "    # pass your response 'page'\n",
    "    df = pd.DataFrame(convert_response(data))\n",
    "    # rename the columns    \n",
    "    df = df.rename(columns={'1. open': 'Open',\n",
    "                            '2. high': 'High',\n",
    "                            '3. low': 'Low',\n",
    "                            '4. close': 'Close'})\n",
    "    df['datetime'] = pd.to_datetime(df['datetime'])\n",
    "    df.set_index('datetime', inplace=True)\n",
    "    df.sort_index(inplace=True)\n",
    "    # extract the default columns\n",
    "    df = df[columns]\n",
    "    return df"
   ]
  },
  {
   "cell_type": "code",
   "execution_count": 4,
   "metadata": {},
   "outputs": [
    {
     "data": {
      "text/html": [
       "<div>\n",
       "<style scoped>\n",
       "    .dataframe tbody tr th:only-of-type {\n",
       "        vertical-align: middle;\n",
       "    }\n",
       "\n",
       "    .dataframe tbody tr th {\n",
       "        vertical-align: top;\n",
       "    }\n",
       "\n",
       "    .dataframe thead th {\n",
       "        text-align: right;\n",
       "    }\n",
       "</style>\n",
       "<table border=\"1\" class=\"dataframe\">\n",
       "  <thead>\n",
       "    <tr style=\"text-align: right;\">\n",
       "      <th></th>\n",
       "      <th>Open</th>\n",
       "      <th>High</th>\n",
       "      <th>Low</th>\n",
       "      <th>Close</th>\n",
       "    </tr>\n",
       "    <tr>\n",
       "      <th>datetime</th>\n",
       "      <th></th>\n",
       "      <th></th>\n",
       "      <th></th>\n",
       "      <th></th>\n",
       "    </tr>\n",
       "  </thead>\n",
       "  <tbody>\n",
       "    <tr>\n",
       "      <th>2020-01-30</th>\n",
       "      <td>7800.0000</td>\n",
       "      <td>7825.0000</td>\n",
       "      <td>7600.0000</td>\n",
       "      <td>7650.0000</td>\n",
       "    </tr>\n",
       "    <tr>\n",
       "      <th>2020-01-31</th>\n",
       "      <td>7675.0000</td>\n",
       "      <td>7700.0000</td>\n",
       "      <td>7450.0000</td>\n",
       "      <td>7550.0000</td>\n",
       "    </tr>\n",
       "    <tr>\n",
       "      <th>2020-02-03</th>\n",
       "      <td>7400.0000</td>\n",
       "      <td>7575.0000</td>\n",
       "      <td>7350.0000</td>\n",
       "      <td>7500.0000</td>\n",
       "    </tr>\n",
       "    <tr>\n",
       "      <th>2020-02-04</th>\n",
       "      <td>7600.0000</td>\n",
       "      <td>7675.0000</td>\n",
       "      <td>7500.0000</td>\n",
       "      <td>7525.0000</td>\n",
       "    </tr>\n",
       "    <tr>\n",
       "      <th>2020-02-05</th>\n",
       "      <td>7600.0000</td>\n",
       "      <td>7700.0000</td>\n",
       "      <td>7550.0000</td>\n",
       "      <td>7700.0000</td>\n",
       "    </tr>\n",
       "    <tr>\n",
       "      <th>...</th>\n",
       "      <td>...</td>\n",
       "      <td>...</td>\n",
       "      <td>...</td>\n",
       "      <td>...</td>\n",
       "    </tr>\n",
       "    <tr>\n",
       "      <th>2020-06-23</th>\n",
       "      <td>4850.0000</td>\n",
       "      <td>4850.0000</td>\n",
       "      <td>4690.0000</td>\n",
       "      <td>4790.0000</td>\n",
       "    </tr>\n",
       "    <tr>\n",
       "      <th>2020-06-24</th>\n",
       "      <td>4890.0000</td>\n",
       "      <td>5200.0000</td>\n",
       "      <td>4890.0000</td>\n",
       "      <td>5150.0000</td>\n",
       "    </tr>\n",
       "    <tr>\n",
       "      <th>2020-06-25</th>\n",
       "      <td>5075.0000</td>\n",
       "      <td>5200.0000</td>\n",
       "      <td>4940.0000</td>\n",
       "      <td>5025.0000</td>\n",
       "    </tr>\n",
       "    <tr>\n",
       "      <th>2020-06-26</th>\n",
       "      <td>5125.0000</td>\n",
       "      <td>5150.0000</td>\n",
       "      <td>4980.0000</td>\n",
       "      <td>5000.0000</td>\n",
       "    </tr>\n",
       "    <tr>\n",
       "      <th>2020-06-29</th>\n",
       "      <td>4980.0000</td>\n",
       "      <td>5000.0000</td>\n",
       "      <td>4870.0000</td>\n",
       "      <td>4940.0000</td>\n",
       "    </tr>\n",
       "  </tbody>\n",
       "</table>\n",
       "<p>100 rows × 4 columns</p>\n",
       "</div>"
      ],
      "text/plain": [
       "                 Open       High        Low      Close\n",
       "datetime                                              \n",
       "2020-01-30  7800.0000  7825.0000  7600.0000  7650.0000\n",
       "2020-01-31  7675.0000  7700.0000  7450.0000  7550.0000\n",
       "2020-02-03  7400.0000  7575.0000  7350.0000  7500.0000\n",
       "2020-02-04  7600.0000  7675.0000  7500.0000  7525.0000\n",
       "2020-02-05  7600.0000  7700.0000  7550.0000  7700.0000\n",
       "...               ...        ...        ...        ...\n",
       "2020-06-23  4850.0000  4850.0000  4690.0000  4790.0000\n",
       "2020-06-24  4890.0000  5200.0000  4890.0000  5150.0000\n",
       "2020-06-25  5075.0000  5200.0000  4940.0000  5025.0000\n",
       "2020-06-26  5125.0000  5150.0000  4980.0000  5000.0000\n",
       "2020-06-29  4980.0000  5000.0000  4870.0000  4940.0000\n",
       "\n",
       "[100 rows x 4 columns]"
      ]
     },
     "execution_count": 4,
     "metadata": {},
     "output_type": "execute_result"
    }
   ],
   "source": [
    "stock_daily_data = df_from_response(stock_daily_data)\n",
    "stock_daily_data"
   ]
  },
  {
   "cell_type": "markdown",
   "metadata": {},
   "source": [
    "### Converting JSON to Numeric"
   ]
  },
  {
   "cell_type": "code",
   "execution_count": 5,
   "metadata": {},
   "outputs": [],
   "source": [
    "stock_daily_data['Open'] = pd.to_numeric(stock_daily_data['Open'])\n",
    "stock_daily_data['High'] = pd.to_numeric(stock_daily_data['High'])\n",
    "stock_daily_data['Low'] = pd.to_numeric(stock_daily_data['Low'])\n",
    "stock_daily_data['Close'] = pd.to_numeric(stock_daily_data['Close'])"
   ]
  },
  {
   "cell_type": "code",
   "execution_count": 6,
   "metadata": {},
   "outputs": [
    {
     "data": {
      "text/plain": [
       "[<matplotlib.lines.Line2D at 0x1189810d0>]"
      ]
     },
     "execution_count": 6,
     "metadata": {},
     "output_type": "execute_result"
    },
    {
     "data": {
      "image/png": "[encoded data removed]",
      "text/plain": [
       "<Figure size 432x288 with 1 Axes>"
      ]
     },
     "metadata": {
      "needs_background": "light"
     },
     "output_type": "display_data"
    }
   ],
   "source": [
    "plt.plot(stock_daily_data['Close'])"
   ]
  },
  {
   "cell_type": "markdown",
   "metadata": {},
   "source": [
    "## Start Pre Processing"
   ]
  },
  {
   "cell_type": "code",
   "execution_count": 7,
   "metadata": {},
   "outputs": [],
   "source": [
    "import numpy as np\n",
    "from sklearn.preprocessing import MinMaxScaler"
   ]
  },
  {
   "cell_type": "code",
   "execution_count": 8,
   "metadata": {},
   "outputs": [
    {
     "data": {
      "text/html": [
       "<div>\n",
       "<style scoped>\n",
       "    .dataframe tbody tr th:only-of-type {\n",
       "        vertical-align: middle;\n",
       "    }\n",
       "\n",
       "    .dataframe tbody tr th {\n",
       "        vertical-align: top;\n",
       "    }\n",
       "\n",
       "    .dataframe thead th {\n",
       "        text-align: right;\n",
       "    }\n",
       "</style>\n",
       "<table border=\"1\" class=\"dataframe\">\n",
       "  <thead>\n",
       "    <tr style=\"text-align: right;\">\n",
       "      <th></th>\n",
       "      <th>Open</th>\n",
       "      <th>High</th>\n",
       "      <th>Low</th>\n",
       "      <th>Close</th>\n",
       "    </tr>\n",
       "  </thead>\n",
       "  <tbody>\n",
       "    <tr>\n",
       "      <th>0</th>\n",
       "      <td>7800.0</td>\n",
       "      <td>7825.0</td>\n",
       "      <td>7600.0</td>\n",
       "      <td>7650.0</td>\n",
       "    </tr>\n",
       "    <tr>\n",
       "      <th>1</th>\n",
       "      <td>7675.0</td>\n",
       "      <td>7700.0</td>\n",
       "      <td>7450.0</td>\n",
       "      <td>7550.0</td>\n",
       "    </tr>\n",
       "    <tr>\n",
       "      <th>2</th>\n",
       "      <td>7400.0</td>\n",
       "      <td>7575.0</td>\n",
       "      <td>7350.0</td>\n",
       "      <td>7500.0</td>\n",
       "    </tr>\n",
       "    <tr>\n",
       "      <th>3</th>\n",
       "      <td>7600.0</td>\n",
       "      <td>7675.0</td>\n",
       "      <td>7500.0</td>\n",
       "      <td>7525.0</td>\n",
       "    </tr>\n",
       "    <tr>\n",
       "      <th>4</th>\n",
       "      <td>7600.0</td>\n",
       "      <td>7700.0</td>\n",
       "      <td>7550.0</td>\n",
       "      <td>7700.0</td>\n",
       "    </tr>\n",
       "    <tr>\n",
       "      <th>...</th>\n",
       "      <td>...</td>\n",
       "      <td>...</td>\n",
       "      <td>...</td>\n",
       "      <td>...</td>\n",
       "    </tr>\n",
       "    <tr>\n",
       "      <th>95</th>\n",
       "      <td>4850.0</td>\n",
       "      <td>4850.0</td>\n",
       "      <td>4690.0</td>\n",
       "      <td>4790.0</td>\n",
       "    </tr>\n",
       "    <tr>\n",
       "      <th>96</th>\n",
       "      <td>4890.0</td>\n",
       "      <td>5200.0</td>\n",
       "      <td>4890.0</td>\n",
       "      <td>5150.0</td>\n",
       "    </tr>\n",
       "    <tr>\n",
       "      <th>97</th>\n",
       "      <td>5075.0</td>\n",
       "      <td>5200.0</td>\n",
       "      <td>4940.0</td>\n",
       "      <td>5025.0</td>\n",
       "    </tr>\n",
       "    <tr>\n",
       "      <th>98</th>\n",
       "      <td>5125.0</td>\n",
       "      <td>5150.0</td>\n",
       "      <td>4980.0</td>\n",
       "      <td>5000.0</td>\n",
       "    </tr>\n",
       "    <tr>\n",
       "      <th>99</th>\n",
       "      <td>4980.0</td>\n",
       "      <td>5000.0</td>\n",
       "      <td>4870.0</td>\n",
       "      <td>4940.0</td>\n",
       "    </tr>\n",
       "  </tbody>\n",
       "</table>\n",
       "<p>100 rows × 4 columns</p>\n",
       "</div>"
      ],
      "text/plain": [
       "      Open    High     Low   Close\n",
       "0   7800.0  7825.0  7600.0  7650.0\n",
       "1   7675.0  7700.0  7450.0  7550.0\n",
       "2   7400.0  7575.0  7350.0  7500.0\n",
       "3   7600.0  7675.0  7500.0  7525.0\n",
       "4   7600.0  7700.0  7550.0  7700.0\n",
       "..     ...     ...     ...     ...\n",
       "95  4850.0  4850.0  4690.0  4790.0\n",
       "96  4890.0  5200.0  4890.0  5150.0\n",
       "97  5075.0  5200.0  4940.0  5025.0\n",
       "98  5125.0  5150.0  4980.0  5000.0\n",
       "99  4980.0  5000.0  4870.0  4940.0\n",
       "\n",
       "[100 rows x 4 columns]"
      ]
     },
     "execution_count": 8,
     "metadata": {},
     "output_type": "execute_result"
    }
   ],
   "source": [
    "pre_processed_data = stock_daily_data.reset_index(drop=True)\n",
    "pre_processed_data"
   ]
  },
  {
   "cell_type": "code",
   "execution_count": 9,
   "metadata": {},
   "outputs": [
    {
     "data": {
      "text/html": [
       "<div>\n",
       "<style scoped>\n",
       "    .dataframe tbody tr th:only-of-type {\n",
       "        vertical-align: middle;\n",
       "    }\n",
       "\n",
       "    .dataframe tbody tr th {\n",
       "        vertical-align: top;\n",
       "    }\n",
       "\n",
       "    .dataframe thead th {\n",
       "        text-align: right;\n",
       "    }\n",
       "</style>\n",
       "<table border=\"1\" class=\"dataframe\">\n",
       "  <thead>\n",
       "    <tr style=\"text-align: right;\">\n",
       "      <th></th>\n",
       "      <th>Open</th>\n",
       "      <th>High</th>\n",
       "      <th>Low</th>\n",
       "      <th>Close</th>\n",
       "      <th>prediction</th>\n",
       "    </tr>\n",
       "  </thead>\n",
       "  <tbody>\n",
       "    <tr>\n",
       "      <th>0</th>\n",
       "      <td>7800.0</td>\n",
       "      <td>7825.0</td>\n",
       "      <td>7600.0</td>\n",
       "      <td>7650.0</td>\n",
       "      <td>7700.0</td>\n",
       "    </tr>\n",
       "    <tr>\n",
       "      <th>1</th>\n",
       "      <td>7675.0</td>\n",
       "      <td>7700.0</td>\n",
       "      <td>7450.0</td>\n",
       "      <td>7550.0</td>\n",
       "      <td>7725.0</td>\n",
       "    </tr>\n",
       "    <tr>\n",
       "      <th>2</th>\n",
       "      <td>7400.0</td>\n",
       "      <td>7575.0</td>\n",
       "      <td>7350.0</td>\n",
       "      <td>7500.0</td>\n",
       "      <td>7725.0</td>\n",
       "    </tr>\n",
       "    <tr>\n",
       "      <th>3</th>\n",
       "      <td>7600.0</td>\n",
       "      <td>7675.0</td>\n",
       "      <td>7500.0</td>\n",
       "      <td>7525.0</td>\n",
       "      <td>7775.0</td>\n",
       "    </tr>\n",
       "    <tr>\n",
       "      <th>4</th>\n",
       "      <td>7600.0</td>\n",
       "      <td>7700.0</td>\n",
       "      <td>7550.0</td>\n",
       "      <td>7700.0</td>\n",
       "      <td>7800.0</td>\n",
       "    </tr>\n",
       "    <tr>\n",
       "      <th>...</th>\n",
       "      <td>...</td>\n",
       "      <td>...</td>\n",
       "      <td>...</td>\n",
       "      <td>...</td>\n",
       "      <td>...</td>\n",
       "    </tr>\n",
       "    <tr>\n",
       "      <th>95</th>\n",
       "      <td>4850.0</td>\n",
       "      <td>4850.0</td>\n",
       "      <td>4690.0</td>\n",
       "      <td>4790.0</td>\n",
       "      <td>NaN</td>\n",
       "    </tr>\n",
       "    <tr>\n",
       "      <th>96</th>\n",
       "      <td>4890.0</td>\n",
       "      <td>5200.0</td>\n",
       "      <td>4890.0</td>\n",
       "      <td>5150.0</td>\n",
       "      <td>NaN</td>\n",
       "    </tr>\n",
       "    <tr>\n",
       "      <th>97</th>\n",
       "      <td>5075.0</td>\n",
       "      <td>5200.0</td>\n",
       "      <td>4940.0</td>\n",
       "      <td>5025.0</td>\n",
       "      <td>NaN</td>\n",
       "    </tr>\n",
       "    <tr>\n",
       "      <th>98</th>\n",
       "      <td>5125.0</td>\n",
       "      <td>5150.0</td>\n",
       "      <td>4980.0</td>\n",
       "      <td>5000.0</td>\n",
       "      <td>NaN</td>\n",
       "    </tr>\n",
       "    <tr>\n",
       "      <th>99</th>\n",
       "      <td>4980.0</td>\n",
       "      <td>5000.0</td>\n",
       "      <td>4870.0</td>\n",
       "      <td>4940.0</td>\n",
       "      <td>NaN</td>\n",
       "    </tr>\n",
       "  </tbody>\n",
       "</table>\n",
       "<p>100 rows × 5 columns</p>\n",
       "</div>"
      ],
      "text/plain": [
       "      Open    High     Low   Close  prediction\n",
       "0   7800.0  7825.0  7600.0  7650.0      7700.0\n",
       "1   7675.0  7700.0  7450.0  7550.0      7725.0\n",
       "2   7400.0  7575.0  7350.0  7500.0      7725.0\n",
       "3   7600.0  7675.0  7500.0  7525.0      7775.0\n",
       "4   7600.0  7700.0  7550.0  7700.0      7800.0\n",
       "..     ...     ...     ...     ...         ...\n",
       "95  4850.0  4850.0  4690.0  4790.0         NaN\n",
       "96  4890.0  5200.0  4890.0  5150.0         NaN\n",
       "97  5075.0  5200.0  4940.0  5025.0         NaN\n",
       "98  5125.0  5150.0  4980.0  5000.0         NaN\n",
       "99  4980.0  5000.0  4870.0  4940.0         NaN\n",
       "\n",
       "[100 rows x 5 columns]"
      ]
     },
     "execution_count": 9,
     "metadata": {},
     "output_type": "execute_result"
    }
   ],
   "source": [
    "# use today market condition to predict tomorrow price\n",
    "pre_processed_data['prediction'] = pre_processed_data['Close'].shift(-future_days)\n",
    "pre_processed_data"
   ]
  },
  {
   "cell_type": "markdown",
   "metadata": {},
   "source": [
    "### Removing NaN"
   ]
  },
  {
   "cell_type": "code",
   "execution_count": 10,
   "metadata": {},
   "outputs": [],
   "source": [
    "# remove NaN row\n",
    "pre_processed_data = pre_processed_data.dropna()"
   ]
  },
  {
   "cell_type": "markdown",
   "metadata": {},
   "source": [
    "### Normalize using MinMaxScaler"
   ]
  },
  {
   "cell_type": "code",
   "execution_count": 11,
   "metadata": {},
   "outputs": [],
   "source": [
    "# normalize the dataset\n",
    "from sklearn.preprocessing import MinMaxScaler\n",
    "scaler = MinMaxScaler(feature_range=(0, 1))\n",
    "pre_processed_data = scaler.fit_transform(pre_processed_data)"
   ]
  },
  {
   "cell_type": "markdown",
   "metadata": {},
   "source": [
    "### Split Data test and train"
   ]
  },
  {
   "cell_type": "code",
   "execution_count": 12,
   "metadata": {},
   "outputs": [],
   "source": [
    "from sklearn.model_selection import train_test_split"
   ]
  },
  {
   "cell_type": "code",
   "execution_count": 13,
   "metadata": {},
   "outputs": [],
   "source": [
    "# split into train and test sets\n",
    "train, test = train_test_split(pre_processed_data, shuffle=False)\n",
    "train, test = np.asarray(train), np.asarray(test)"
   ]
  },
  {
   "cell_type": "markdown",
   "metadata": {},
   "source": [
    "### Create Data Set Function"
   ]
  },
  {
   "cell_type": "code",
   "execution_count": 14,
   "metadata": {},
   "outputs": [],
   "source": [
    "# convert an array of values into a dataset matrix\n",
    "def create_dataset(dataset, look_back=1):\n",
    "    dataX, dataY = [], []\n",
    "    for i in range(len(dataset)-look_back-1):\n",
    "        a = dataset[i:(i+look_back), 0]\n",
    "        dataX.append(a)\n",
    "        dataY.append(dataset[i + look_back, 0])\n",
    "    \n",
    "    return np.array(dataX), np.array(dataY)"
   ]
  },
  {
   "cell_type": "markdown",
   "metadata": {},
   "source": [
    "### Reshape Data"
   ]
  },
  {
   "cell_type": "code",
   "execution_count": 15,
   "metadata": {},
   "outputs": [],
   "source": [
    "# reshape into X=t and Y=t+1\n",
    "look_back = 1\n",
    "trainX, trainY = create_dataset(train, look_back)\n",
    "testX, testY = create_dataset(test, look_back)"
   ]
  },
  {
   "cell_type": "markdown",
   "metadata": {},
   "source": [
    "The LSTM network expects the input data (X) to be provided with a specific array structure in the form of: [samples, time steps, features].\n",
    "\n",
    "Currently, our data is in the form: [samples, features] and we are framing the problem as one time step for each sample. We can transform the prepared train and test input data into the expected structure using numpy.reshape() as follows:"
   ]
  },
  {
   "cell_type": "code",
   "execution_count": 16,
   "metadata": {},
   "outputs": [],
   "source": [
    "# reshape input to be [samples, time steps, features]\n",
    "trainX = np.reshape(trainX, (trainX.shape[0], 1, trainX.shape[1]))\n",
    "testX = np.reshape(testX, (testX.shape[0], 1, testX.shape[1]))"
   ]
  },
  {
   "cell_type": "markdown",
   "metadata": {},
   "source": [
    "## Model Building"
   ]
  },
  {
   "cell_type": "code",
   "execution_count": 17,
   "metadata": {},
   "outputs": [
    {
     "name": "stderr",
     "output_type": "stream",
     "text": [
      "Using TensorFlow backend.\n"
     ]
    }
   ],
   "source": [
    "from keras.models import Sequential\n",
    "from keras.layers import Dense\n",
    "from keras.layers import LSTM\n",
    "from keras.layers import Dropout\n",
    "from sklearn.metrics import mean_squared_error"
   ]
  },
  {
   "cell_type": "code",
   "execution_count": 18,
   "metadata": {},
   "outputs": [
    {
     "name": "stdout",
     "output_type": "stream",
     "text": [
      "Epoch 1/100\n",
      " - 3s - loss: 0.3315\n",
      "Epoch 2/100\n",
      " - 0s - loss: 0.1995\n",
      "Epoch 3/100\n",
      " - 0s - loss: 0.1387\n",
      "Epoch 4/100\n",
      " - 0s - loss: 0.0945\n",
      "Epoch 5/100\n",
      " - 0s - loss: 0.0791\n",
      "Epoch 6/100\n",
      " - 0s - loss: 0.0629\n",
      "Epoch 7/100\n",
      " - 0s - loss: 0.0579\n",
      "Epoch 8/100\n",
      " - 0s - loss: 0.0540\n",
      "Epoch 9/100\n",
      " - 0s - loss: 0.0531\n",
      "Epoch 10/100\n",
      " - 0s - loss: 0.0346\n",
      "Epoch 11/100\n",
      " - 0s - loss: 0.0395\n",
      "Epoch 12/100\n",
      " - 0s - loss: 0.0365\n",
      "Epoch 13/100\n",
      " - 0s - loss: 0.0331\n",
      "Epoch 14/100\n",
      " - 0s - loss: 0.0298\n",
      "Epoch 15/100\n",
      " - 0s - loss: 0.0285\n",
      "Epoch 16/100\n",
      " - 0s - loss: 0.0250\n",
      "Epoch 17/100\n",
      " - 0s - loss: 0.0218\n",
      "Epoch 18/100\n",
      " - 0s - loss: 0.0120\n",
      "Epoch 19/100\n",
      " - 0s - loss: 0.0180\n",
      "Epoch 20/100\n",
      " - 0s - loss: 0.0227\n",
      "Epoch 21/100\n",
      " - 0s - loss: 0.0122\n",
      "Epoch 22/100\n",
      " - 0s - loss: 0.0132\n",
      "Epoch 23/100\n",
      " - 0s - loss: 0.0184\n",
      "Epoch 24/100\n",
      " - 0s - loss: 0.0182\n",
      "Epoch 25/100\n",
      " - 0s - loss: 0.0164\n",
      "Epoch 26/100\n",
      " - 0s - loss: 0.0165\n",
      "Epoch 27/100\n",
      " - 0s - loss: 0.0166\n",
      "Epoch 28/100\n",
      " - 0s - loss: 0.0144\n",
      "Epoch 29/100\n",
      " - 0s - loss: 0.0128\n",
      "Epoch 30/100\n",
      " - 0s - loss: 0.0108\n",
      "Epoch 31/100\n",
      " - 0s - loss: 0.0233\n",
      "Epoch 32/100\n",
      " - 0s - loss: 0.0136\n",
      "Epoch 33/100\n",
      " - 0s - loss: 0.0116\n",
      "Epoch 34/100\n",
      " - 0s - loss: 0.0108\n",
      "Epoch 35/100\n",
      " - 0s - loss: 0.0109\n",
      "Epoch 36/100\n",
      " - 0s - loss: 0.0102\n",
      "Epoch 37/100\n",
      " - 0s - loss: 0.0096\n",
      "Epoch 38/100\n",
      " - 0s - loss: 0.0137\n",
      "Epoch 39/100\n",
      " - 0s - loss: 0.0139\n",
      "Epoch 40/100\n",
      " - 0s - loss: 0.0118\n",
      "Epoch 41/100\n",
      " - 0s - loss: 0.0104\n",
      "Epoch 42/100\n",
      " - 0s - loss: 0.0136\n",
      "Epoch 43/100\n",
      " - 0s - loss: 0.0111\n",
      "Epoch 44/100\n",
      " - 0s - loss: 0.0075\n",
      "Epoch 45/100\n",
      " - 0s - loss: 0.0070\n",
      "Epoch 46/100\n",
      " - 0s - loss: 0.0137\n",
      "Epoch 47/100\n",
      " - 0s - loss: 0.0094\n",
      "Epoch 48/100\n",
      " - 0s - loss: 0.0115\n",
      "Epoch 49/100\n",
      " - 0s - loss: 0.0085\n",
      "Epoch 50/100\n",
      " - 0s - loss: 0.0138\n",
      "Epoch 51/100\n",
      " - 0s - loss: 0.0117\n",
      "Epoch 52/100\n",
      " - 0s - loss: 0.0129\n",
      "Epoch 53/100\n",
      " - 0s - loss: 0.0080\n",
      "Epoch 54/100\n",
      " - 0s - loss: 0.0092\n",
      "Epoch 55/100\n",
      " - 0s - loss: 0.0121\n",
      "Epoch 56/100\n",
      " - 0s - loss: 0.0127\n",
      "Epoch 57/100\n",
      " - 0s - loss: 0.0111\n",
      "Epoch 58/100\n",
      " - 0s - loss: 0.0133\n",
      "Epoch 59/100\n",
      " - 0s - loss: 0.0085\n",
      "Epoch 60/100\n",
      " - 0s - loss: 0.0084\n",
      "Epoch 61/100\n",
      " - 1s - loss: 0.0097\n",
      "Epoch 62/100\n",
      " - 1s - loss: 0.0087\n",
      "Epoch 63/100\n",
      " - 0s - loss: 0.0134\n",
      "Epoch 64/100\n",
      " - 0s - loss: 0.0082\n",
      "Epoch 65/100\n",
      " - 0s - loss: 0.0098\n",
      "Epoch 66/100\n",
      " - 0s - loss: 0.0098\n",
      "Epoch 67/100\n",
      " - 0s - loss: 0.0067\n",
      "Epoch 68/100\n",
      " - 0s - loss: 0.0087\n",
      "Epoch 69/100\n",
      " - 0s - loss: 0.0123\n",
      "Epoch 70/100\n",
      " - 0s - loss: 0.0087\n",
      "Epoch 71/100\n",
      " - 0s - loss: 0.0103\n",
      "Epoch 72/100\n",
      " - 0s - loss: 0.0106\n",
      "Epoch 73/100\n",
      " - 0s - loss: 0.0088\n",
      "Epoch 74/100\n",
      " - 0s - loss: 0.0083\n",
      "Epoch 75/100\n",
      " - 1s - loss: 0.0065\n",
      "Epoch 76/100\n",
      " - 0s - loss: 0.0093\n",
      "Epoch 77/100\n",
      " - 0s - loss: 0.0079\n",
      "Epoch 78/100\n",
      " - 0s - loss: 0.0101\n",
      "Epoch 79/100\n",
      " - 0s - loss: 0.0073\n",
      "Epoch 80/100\n",
      " - 0s - loss: 0.0071\n",
      "Epoch 81/100\n",
      " - 0s - loss: 0.0071\n",
      "Epoch 82/100\n",
      " - 0s - loss: 0.0063\n",
      "Epoch 83/100\n",
      " - 0s - loss: 0.0064\n",
      "Epoch 84/100\n",
      " - 0s - loss: 0.0082\n",
      "Epoch 85/100\n",
      " - 1s - loss: 0.0107\n",
      "Epoch 86/100\n",
      " - 1s - loss: 0.0085\n",
      "Epoch 87/100\n",
      " - 0s - loss: 0.0075\n",
      "Epoch 88/100\n",
      " - 0s - loss: 0.0073\n",
      "Epoch 89/100\n",
      " - 0s - loss: 0.0075\n",
      "Epoch 90/100\n",
      " - 0s - loss: 0.0089\n",
      "Epoch 91/100\n",
      " - 0s - loss: 0.0097\n",
      "Epoch 92/100\n",
      " - 0s - loss: 0.0081\n",
      "Epoch 93/100\n",
      " - 0s - loss: 0.0080\n",
      "Epoch 94/100\n",
      " - 0s - loss: 0.0082\n",
      "Epoch 95/100\n",
      " - 0s - loss: 0.0072\n",
      "Epoch 96/100\n",
      " - 0s - loss: 0.0080\n",
      "Epoch 97/100\n",
      " - 1s - loss: 0.0074\n",
      "Epoch 98/100\n",
      " - 1s - loss: 0.0093\n",
      "Epoch 99/100\n",
      " - 1s - loss: 0.0070\n",
      "Epoch 100/100\n",
      " - 0s - loss: 0.0089\n"
     ]
    },
    {
     "data": {
      "text/plain": [
       "<keras.callbacks.callbacks.History at 0x1a41c85590>"
      ]
     },
     "execution_count": 18,
     "metadata": {},
     "output_type": "execute_result"
    }
   ],
   "source": [
    "# create and fit the LSTM network\n",
    "model = Sequential()\n",
    "model.add(LSTM(10, input_shape=(1, look_back)))\n",
    "model.add(Dropout(0.2))\n",
    "model.add(Dense(1))\n",
    "model.compile(loss='mean_squared_error', optimizer='adam')\n",
    "model.fit(trainX, trainY, epochs=100, batch_size=1, verbose=2)"
   ]
  },
  {
   "cell_type": "markdown",
   "metadata": {},
   "source": [
    "## Evaluation"
   ]
  },
  {
   "cell_type": "code",
   "execution_count": 19,
   "metadata": {},
   "outputs": [],
   "source": [
    "import math"
   ]
  },
  {
   "cell_type": "code",
   "execution_count": 20,
   "metadata": {},
   "outputs": [],
   "source": [
    "# make evaluation\n",
    "trainPredict = model.predict(trainX)\n",
    "testPredict = model.predict(testX)"
   ]
  },
  {
   "cell_type": "markdown",
   "metadata": {},
   "source": [
    "### Fix operands issue"
   ]
  },
  {
   "cell_type": "code",
   "execution_count": 21,
   "metadata": {},
   "outputs": [],
   "source": [
    "# assign to new scaler, to avoid operands issue\n",
    "scale = MinMaxScaler()\n",
    "scale.min_, scale.scale_ = scaler.min_[3], scaler.scale_[3]"
   ]
  },
  {
   "cell_type": "markdown",
   "metadata": {},
   "source": [
    "### Invert the Normalizer"
   ]
  },
  {
   "cell_type": "code",
   "execution_count": 22,
   "metadata": {},
   "outputs": [],
   "source": [
    "# invert evaluation\n",
    "trainPredict = scale.inverse_transform(trainPredict)\n",
    "trainY = scale.inverse_transform([trainY])\n",
    "testPredict = scale.inverse_transform(testPredict)\n",
    "testY = scale.inverse_transform([testY])"
   ]
  },
  {
   "cell_type": "code",
   "execution_count": 23,
   "metadata": {},
   "outputs": [
    {
     "name": "stdout",
     "output_type": "stream",
     "text": [
      "Train Score: 249.15 RMSE\n",
      "Test Score: 214.05 RMSE\n"
     ]
    }
   ],
   "source": [
    "# calculate root mean squared error\n",
    "trainScore = math.sqrt(mean_squared_error(trainY[0], trainPredict[:,0]))\n",
    "print('Train Score: %.2f RMSE' % (trainScore))\n",
    "testScore = math.sqrt(mean_squared_error(testY[0], testPredict[:,0]))\n",
    "print('Test Score: %.2f RMSE' % (testScore))"
   ]
  },
  {
   "cell_type": "markdown",
   "metadata": {},
   "source": [
    "## Post Processing"
   ]
  },
  {
   "cell_type": "code",
   "execution_count": 24,
   "metadata": {},
   "outputs": [],
   "source": [
    "base_line = stock_daily_data.reset_index(drop=True)\n",
    "current_prediction_dataset = scaler.fit_transform(base_line)"
   ]
  },
  {
   "cell_type": "code",
   "execution_count": 25,
   "metadata": {},
   "outputs": [],
   "source": [
    "current_prediction_dataset = np.asarray(current_prediction_dataset)\n",
    "current_prediction_data_setX, current_prediction_data_setY = create_dataset(current_prediction_dataset, look_back)"
   ]
  },
  {
   "cell_type": "code",
   "execution_count": 26,
   "metadata": {},
   "outputs": [],
   "source": [
    "current_prediction_data_setX = np.reshape(current_prediction_data_setX, (current_prediction_data_setX.shape[0], 1, current_prediction_data_setX.shape[1]))"
   ]
  },
  {
   "cell_type": "markdown",
   "metadata": {},
   "source": [
    "### predict the actual result"
   ]
  },
  {
   "cell_type": "code",
   "execution_count": 27,
   "metadata": {},
   "outputs": [],
   "source": [
    "result = model.predict(current_prediction_data_setX)\n",
    "result = scale.inverse_transform(result)"
   ]
  },
  {
   "cell_type": "markdown",
   "metadata": {},
   "source": [
    "## Plotting"
   ]
  },
  {
   "cell_type": "code",
   "execution_count": 28,
   "metadata": {},
   "outputs": [
    {
     "data": {
      "image/png": "[encoded data removed]",
      "text/plain": [
       "<Figure size 432x288 with 1 Axes>"
      ]
     },
     "metadata": {
      "needs_background": "light"
     },
     "output_type": "display_data"
    }
   ],
   "source": [
    "# plot baseline and predictions\n",
    "\n",
    "avg_RMSE = (trainScore + testScore) / 2\n",
    "\n",
    "future_prediction = result[~future_days:]\n",
    "\n",
    "plt.plot(future_prediction)\n",
    "\n",
    "for index, value in enumerate(future_prediction):\n",
    "    plt.text(index,value,f\"{int(value)}\")\n",
    "\n",
    "plt.show()"
   ]
  },
  {
   "cell_type": "code",
   "execution_count": null,
   "metadata": {},
   "outputs": [],
   "source": []
  }
 ],
 "metadata": {
  "kernelspec": {
   "display_name": "tf",
   "language": "python",
   "name": "tf"
  },
  "language_info": {
   "codemirror_mode": {
    "name": "ipython",
    "version": 3
   },
   "file_extension": ".py",
   "mimetype": "text/x-python",
   "name": "python",
   "nbconvert_exporter": "python",
   "pygments_lexer": "ipython3",
   "version": "3.7.7"
  }
 },
 "nbformat": 4,
 "nbformat_minor": 4
}
