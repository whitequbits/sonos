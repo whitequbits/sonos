{
 "cells": [
  {
   "cell_type": "markdown",
   "metadata": {},
   "source": [
    "# Sonos Project\n",
    "\n",
    "Learn How to build Full Stack App + Machine Learning"
   ]
  },
  {
   "cell_type": "markdown",
   "metadata": {},
   "source": [
    "## Stock API\n",
    "\n",
    "https://www.alphavantage.co/query?function=TIME_SERIES_DAILY&symbol=BBRI.JK&apikey=MWS5CUQWP4SDJK9L&datatype=csv"
   ]
  },
  {
   "cell_type": "markdown",
   "metadata": {},
   "source": [
    "## Import Dependencies"
   ]
  },
  {
   "cell_type": "code",
   "execution_count": 1,
   "metadata": {},
   "outputs": [],
   "source": [
    "import matplotlib.pyplot as plt\n",
    "plt.style.use('bmh')\n",
    "import pandas as pd"
   ]
  },
  {
   "cell_type": "markdown",
   "metadata": {},
   "source": [
    "## Read Original Data"
   ]
  },
  {
   "cell_type": "code",
   "execution_count": 2,
   "metadata": {},
   "outputs": [],
   "source": [
    "# Reverse the data start from the earlier days\n",
    "stock_daily_data = pd.read_csv('./daily_BBRI.JK.csv').iloc[::-1]"
   ]
  },
  {
   "cell_type": "code",
   "execution_count": 3,
   "metadata": {},
   "outputs": [
    {
     "data": {
      "text/html": [
       "<div>\n",
       "<style scoped>\n",
       "    .dataframe tbody tr th:only-of-type {\n",
       "        vertical-align: middle;\n",
       "    }\n",
       "\n",
       "    .dataframe tbody tr th {\n",
       "        vertical-align: top;\n",
       "    }\n",
       "\n",
       "    .dataframe thead th {\n",
       "        text-align: right;\n",
       "    }\n",
       "</style>\n",
       "<table border=\"1\" class=\"dataframe\">\n",
       "  <thead>\n",
       "    <tr style=\"text-align: right;\">\n",
       "      <th></th>\n",
       "      <th>open</th>\n",
       "      <th>high</th>\n",
       "      <th>low</th>\n",
       "      <th>close</th>\n",
       "      <th>volume</th>\n",
       "    </tr>\n",
       "  </thead>\n",
       "  <tbody>\n",
       "    <tr>\n",
       "      <th>count</th>\n",
       "      <td>100.000000</td>\n",
       "      <td>100.000000</td>\n",
       "      <td>100.000000</td>\n",
       "      <td>100.000000</td>\n",
       "      <td>1.000000e+02</td>\n",
       "    </tr>\n",
       "    <tr>\n",
       "      <th>mean</th>\n",
       "      <td>3354.800000</td>\n",
       "      <td>3424.700000</td>\n",
       "      <td>3269.600000</td>\n",
       "      <td>3330.100000</td>\n",
       "      <td>2.547695e+08</td>\n",
       "    </tr>\n",
       "    <tr>\n",
       "      <th>std</th>\n",
       "      <td>760.756508</td>\n",
       "      <td>743.853541</td>\n",
       "      <td>763.877562</td>\n",
       "      <td>751.509585</td>\n",
       "      <td>1.478902e+08</td>\n",
       "    </tr>\n",
       "    <tr>\n",
       "      <th>min</th>\n",
       "      <td>2250.000000</td>\n",
       "      <td>2270.000000</td>\n",
       "      <td>2160.000000</td>\n",
       "      <td>2170.000000</td>\n",
       "      <td>7.971070e+07</td>\n",
       "    </tr>\n",
       "    <tr>\n",
       "      <th>25%</th>\n",
       "      <td>2737.500000</td>\n",
       "      <td>2837.500000</td>\n",
       "      <td>2657.500000</td>\n",
       "      <td>2767.500000</td>\n",
       "      <td>1.449664e+08</td>\n",
       "    </tr>\n",
       "    <tr>\n",
       "      <th>50%</th>\n",
       "      <td>3090.000000</td>\n",
       "      <td>3135.000000</td>\n",
       "      <td>2990.000000</td>\n",
       "      <td>3040.000000</td>\n",
       "      <td>2.078630e+08</td>\n",
       "    </tr>\n",
       "    <tr>\n",
       "      <th>75%</th>\n",
       "      <td>4072.500000</td>\n",
       "      <td>4192.500000</td>\n",
       "      <td>4000.000000</td>\n",
       "      <td>4107.500000</td>\n",
       "      <td>3.386146e+08</td>\n",
       "    </tr>\n",
       "    <tr>\n",
       "      <th>max</th>\n",
       "      <td>4700.000000</td>\n",
       "      <td>4700.000000</td>\n",
       "      <td>4600.000000</td>\n",
       "      <td>4620.000000</td>\n",
       "      <td>8.726073e+08</td>\n",
       "    </tr>\n",
       "  </tbody>\n",
       "</table>\n",
       "</div>"
      ],
      "text/plain": [
       "              open         high          low        close        volume\n",
       "count   100.000000   100.000000   100.000000   100.000000  1.000000e+02\n",
       "mean   3354.800000  3424.700000  3269.600000  3330.100000  2.547695e+08\n",
       "std     760.756508   743.853541   763.877562   751.509585  1.478902e+08\n",
       "min    2250.000000  2270.000000  2160.000000  2170.000000  7.971070e+07\n",
       "25%    2737.500000  2837.500000  2657.500000  2767.500000  1.449664e+08\n",
       "50%    3090.000000  3135.000000  2990.000000  3040.000000  2.078630e+08\n",
       "75%    4072.500000  4192.500000  4000.000000  4107.500000  3.386146e+08\n",
       "max    4700.000000  4700.000000  4600.000000  4620.000000  8.726073e+08"
      ]
     },
     "execution_count": 3,
     "metadata": {},
     "output_type": "execute_result"
    }
   ],
   "source": [
    "stock_daily_data.describe()"
   ]
  },
  {
   "cell_type": "code",
   "execution_count": 4,
   "metadata": {},
   "outputs": [
    {
     "data": {
      "text/html": [
       "<div>\n",
       "<style scoped>\n",
       "    .dataframe tbody tr th:only-of-type {\n",
       "        vertical-align: middle;\n",
       "    }\n",
       "\n",
       "    .dataframe tbody tr th {\n",
       "        vertical-align: top;\n",
       "    }\n",
       "\n",
       "    .dataframe thead th {\n",
       "        text-align: right;\n",
       "    }\n",
       "</style>\n",
       "<table border=\"1\" class=\"dataframe\">\n",
       "  <thead>\n",
       "    <tr style=\"text-align: right;\">\n",
       "      <th></th>\n",
       "      <th>timestamp</th>\n",
       "      <th>open</th>\n",
       "      <th>high</th>\n",
       "      <th>low</th>\n",
       "      <th>close</th>\n",
       "      <th>volume</th>\n",
       "    </tr>\n",
       "  </thead>\n",
       "  <tbody>\n",
       "    <tr>\n",
       "      <th>99</th>\n",
       "      <td>2020-01-29</td>\n",
       "      <td>4620.0</td>\n",
       "      <td>4660.0</td>\n",
       "      <td>4600.0</td>\n",
       "      <td>4620.0</td>\n",
       "      <td>194871800</td>\n",
       "    </tr>\n",
       "    <tr>\n",
       "      <th>98</th>\n",
       "      <td>2020-01-30</td>\n",
       "      <td>4700.0</td>\n",
       "      <td>4700.0</td>\n",
       "      <td>4580.0</td>\n",
       "      <td>4580.0</td>\n",
       "      <td>87726300</td>\n",
       "    </tr>\n",
       "    <tr>\n",
       "      <th>97</th>\n",
       "      <td>2020-01-31</td>\n",
       "      <td>4570.0</td>\n",
       "      <td>4580.0</td>\n",
       "      <td>4460.0</td>\n",
       "      <td>4460.0</td>\n",
       "      <td>137055500</td>\n",
       "    </tr>\n",
       "    <tr>\n",
       "      <th>96</th>\n",
       "      <td>2020-02-03</td>\n",
       "      <td>4460.0</td>\n",
       "      <td>4490.0</td>\n",
       "      <td>4450.0</td>\n",
       "      <td>4460.0</td>\n",
       "      <td>131584600</td>\n",
       "    </tr>\n",
       "    <tr>\n",
       "      <th>95</th>\n",
       "      <td>2020-02-04</td>\n",
       "      <td>4690.0</td>\n",
       "      <td>4690.0</td>\n",
       "      <td>4520.0</td>\n",
       "      <td>4560.0</td>\n",
       "      <td>112377400</td>\n",
       "    </tr>\n",
       "  </tbody>\n",
       "</table>\n",
       "</div>"
      ],
      "text/plain": [
       "     timestamp    open    high     low   close     volume\n",
       "99  2020-01-29  4620.0  4660.0  4600.0  4620.0  194871800\n",
       "98  2020-01-30  4700.0  4700.0  4580.0  4580.0   87726300\n",
       "97  2020-01-31  4570.0  4580.0  4460.0  4460.0  137055500\n",
       "96  2020-02-03  4460.0  4490.0  4450.0  4460.0  131584600\n",
       "95  2020-02-04  4690.0  4690.0  4520.0  4560.0  112377400"
      ]
     },
     "execution_count": 4,
     "metadata": {},
     "output_type": "execute_result"
    }
   ],
   "source": [
    "stock_daily_data.head(5)"
   ]
  },
  {
   "cell_type": "code",
   "execution_count": 5,
   "metadata": {},
   "outputs": [
    {
     "data": {
      "text/plain": [
       "[<matplotlib.lines.Line2D at 0x11e5ccc10>]"
      ]
     },
     "execution_count": 5,
     "metadata": {},
     "output_type": "execute_result"
    },
    {
     "data": {
      "image/png": "[encoded data removed]",
      "text/plain": [
       "<Figure size 432x288 with 1 Axes>"
      ]
     },
     "metadata": {
      "needs_background": "light"
     },
     "output_type": "display_data"
    }
   ],
   "source": [
    "plt.plot(stock_daily_data['close'])"
   ]
  },
  {
   "cell_type": "markdown",
   "metadata": {},
   "source": [
    "## Start Pre Processing"
   ]
  },
  {
   "cell_type": "code",
   "execution_count": 6,
   "metadata": {},
   "outputs": [],
   "source": [
    "import numpy as np\n",
    "from sklearn.preprocessing import MinMaxScaler"
   ]
  },
  {
   "cell_type": "code",
   "execution_count": 7,
   "metadata": {},
   "outputs": [],
   "source": [
    "future_days = 5"
   ]
  },
  {
   "cell_type": "code",
   "execution_count": 8,
   "metadata": {},
   "outputs": [],
   "source": [
    "pre_processed_data = stock_daily_data.reset_index(drop=True)"
   ]
  },
  {
   "cell_type": "code",
   "execution_count": 9,
   "metadata": {},
   "outputs": [],
   "source": [
    "pre_processed_data = pre_processed_data.drop(['timestamp'], 1)"
   ]
  },
  {
   "cell_type": "code",
   "execution_count": 10,
   "metadata": {},
   "outputs": [
    {
     "data": {
      "text/html": [
       "<div>\n",
       "<style scoped>\n",
       "    .dataframe tbody tr th:only-of-type {\n",
       "        vertical-align: middle;\n",
       "    }\n",
       "\n",
       "    .dataframe tbody tr th {\n",
       "        vertical-align: top;\n",
       "    }\n",
       "\n",
       "    .dataframe thead th {\n",
       "        text-align: right;\n",
       "    }\n",
       "</style>\n",
       "<table border=\"1\" class=\"dataframe\">\n",
       "  <thead>\n",
       "    <tr style=\"text-align: right;\">\n",
       "      <th></th>\n",
       "      <th>open</th>\n",
       "      <th>high</th>\n",
       "      <th>low</th>\n",
       "      <th>close</th>\n",
       "      <th>volume</th>\n",
       "      <th>prediction</th>\n",
       "    </tr>\n",
       "  </thead>\n",
       "  <tbody>\n",
       "    <tr>\n",
       "      <th>0</th>\n",
       "      <td>4620.0</td>\n",
       "      <td>4660.0</td>\n",
       "      <td>4600.0</td>\n",
       "      <td>4620.0</td>\n",
       "      <td>194871800</td>\n",
       "      <td>4560.0</td>\n",
       "    </tr>\n",
       "    <tr>\n",
       "      <th>1</th>\n",
       "      <td>4700.0</td>\n",
       "      <td>4700.0</td>\n",
       "      <td>4580.0</td>\n",
       "      <td>4580.0</td>\n",
       "      <td>87726300</td>\n",
       "      <td>4550.0</td>\n",
       "    </tr>\n",
       "    <tr>\n",
       "      <th>2</th>\n",
       "      <td>4570.0</td>\n",
       "      <td>4580.0</td>\n",
       "      <td>4460.0</td>\n",
       "      <td>4460.0</td>\n",
       "      <td>137055500</td>\n",
       "      <td>4550.0</td>\n",
       "    </tr>\n",
       "    <tr>\n",
       "      <th>3</th>\n",
       "      <td>4460.0</td>\n",
       "      <td>4490.0</td>\n",
       "      <td>4450.0</td>\n",
       "      <td>4460.0</td>\n",
       "      <td>131584600</td>\n",
       "      <td>4500.0</td>\n",
       "    </tr>\n",
       "    <tr>\n",
       "      <th>4</th>\n",
       "      <td>4690.0</td>\n",
       "      <td>4690.0</td>\n",
       "      <td>4520.0</td>\n",
       "      <td>4560.0</td>\n",
       "      <td>112377400</td>\n",
       "      <td>4510.0</td>\n",
       "    </tr>\n",
       "    <tr>\n",
       "      <th>...</th>\n",
       "      <td>...</td>\n",
       "      <td>...</td>\n",
       "      <td>...</td>\n",
       "      <td>...</td>\n",
       "      <td>...</td>\n",
       "      <td>...</td>\n",
       "    </tr>\n",
       "    <tr>\n",
       "      <th>95</th>\n",
       "      <td>3100.0</td>\n",
       "      <td>3110.0</td>\n",
       "      <td>3030.0</td>\n",
       "      <td>3060.0</td>\n",
       "      <td>95377000</td>\n",
       "      <td>NaN</td>\n",
       "    </tr>\n",
       "    <tr>\n",
       "      <th>96</th>\n",
       "      <td>3020.0</td>\n",
       "      <td>3060.0</td>\n",
       "      <td>2980.0</td>\n",
       "      <td>3010.0</td>\n",
       "      <td>171421500</td>\n",
       "      <td>NaN</td>\n",
       "    </tr>\n",
       "    <tr>\n",
       "      <th>97</th>\n",
       "      <td>3050.0</td>\n",
       "      <td>3140.0</td>\n",
       "      <td>3010.0</td>\n",
       "      <td>3120.0</td>\n",
       "      <td>308484300</td>\n",
       "      <td>NaN</td>\n",
       "    </tr>\n",
       "    <tr>\n",
       "      <th>98</th>\n",
       "      <td>3100.0</td>\n",
       "      <td>3110.0</td>\n",
       "      <td>3040.0</td>\n",
       "      <td>3060.0</td>\n",
       "      <td>158209300</td>\n",
       "      <td>NaN</td>\n",
       "    </tr>\n",
       "    <tr>\n",
       "      <th>99</th>\n",
       "      <td>3100.0</td>\n",
       "      <td>3120.0</td>\n",
       "      <td>3020.0</td>\n",
       "      <td>3030.0</td>\n",
       "      <td>147306200</td>\n",
       "      <td>NaN</td>\n",
       "    </tr>\n",
       "  </tbody>\n",
       "</table>\n",
       "<p>100 rows × 6 columns</p>\n",
       "</div>"
      ],
      "text/plain": [
       "      open    high     low   close     volume  prediction\n",
       "0   4620.0  4660.0  4600.0  4620.0  194871800      4560.0\n",
       "1   4700.0  4700.0  4580.0  4580.0   87726300      4550.0\n",
       "2   4570.0  4580.0  4460.0  4460.0  137055500      4550.0\n",
       "3   4460.0  4490.0  4450.0  4460.0  131584600      4500.0\n",
       "4   4690.0  4690.0  4520.0  4560.0  112377400      4510.0\n",
       "..     ...     ...     ...     ...        ...         ...\n",
       "95  3100.0  3110.0  3030.0  3060.0   95377000         NaN\n",
       "96  3020.0  3060.0  2980.0  3010.0  171421500         NaN\n",
       "97  3050.0  3140.0  3010.0  3120.0  308484300         NaN\n",
       "98  3100.0  3110.0  3040.0  3060.0  158209300         NaN\n",
       "99  3100.0  3120.0  3020.0  3030.0  147306200         NaN\n",
       "\n",
       "[100 rows x 6 columns]"
      ]
     },
     "execution_count": 10,
     "metadata": {},
     "output_type": "execute_result"
    }
   ],
   "source": [
    "# use today market condition to predict tomorrow price\n",
    "pre_processed_data['prediction'] = pre_processed_data['close'].shift(-future_days)\n",
    "pre_processed_data"
   ]
  },
  {
   "cell_type": "markdown",
   "metadata": {},
   "source": [
    "### Removing NaN"
   ]
  },
  {
   "cell_type": "code",
   "execution_count": 11,
   "metadata": {},
   "outputs": [],
   "source": [
    "# remove NaN row\n",
    "pre_processed_data = pre_processed_data.dropna()\n",
    "\n",
    "# remove column\n",
    "pre_processed_data = pre_processed_data.drop(columns=['volume'])"
   ]
  },
  {
   "cell_type": "markdown",
   "metadata": {},
   "source": [
    "### Normalize using MinMaxScaler"
   ]
  },
  {
   "cell_type": "code",
   "execution_count": 12,
   "metadata": {},
   "outputs": [],
   "source": [
    "# normalize the dataset\n",
    "from sklearn.preprocessing import MinMaxScaler\n",
    "scaler = MinMaxScaler(feature_range=(0, 1))\n",
    "pre_processed_data = scaler.fit_transform(pre_processed_data)"
   ]
  },
  {
   "cell_type": "markdown",
   "metadata": {},
   "source": [
    "### Split Data test and train"
   ]
  },
  {
   "cell_type": "code",
   "execution_count": 13,
   "metadata": {},
   "outputs": [],
   "source": [
    "from sklearn.model_selection import train_test_split"
   ]
  },
  {
   "cell_type": "code",
   "execution_count": 14,
   "metadata": {},
   "outputs": [],
   "source": [
    "# split into train and test sets\n",
    "train, test = train_test_split(pre_processed_data, shuffle=False)\n",
    "train, test = np.asarray(train), np.asarray(test)"
   ]
  },
  {
   "cell_type": "markdown",
   "metadata": {},
   "source": [
    "### Create Data Set Function"
   ]
  },
  {
   "cell_type": "code",
   "execution_count": 15,
   "metadata": {},
   "outputs": [],
   "source": [
    "# convert an array of values into a dataset matrix\n",
    "def create_dataset(dataset, look_back=1):\n",
    "    dataX, dataY = [], []\n",
    "    for i in range(len(dataset)-look_back-1):\n",
    "        a = dataset[i:(i+look_back), 0]\n",
    "        dataX.append(a)\n",
    "        dataY.append(dataset[i + look_back, 0])\n",
    "    \n",
    "    return np.array(dataX), np.array(dataY)"
   ]
  },
  {
   "cell_type": "markdown",
   "metadata": {},
   "source": [
    "### Reshape Data"
   ]
  },
  {
   "cell_type": "code",
   "execution_count": 16,
   "metadata": {},
   "outputs": [],
   "source": [
    "# reshape into X=t and Y=t+1\n",
    "look_back = 4\n",
    "trainX, trainY = create_dataset(train, look_back)\n",
    "testX, testY = create_dataset(test, look_back)"
   ]
  },
  {
   "cell_type": "markdown",
   "metadata": {},
   "source": [
    "The LSTM network expects the input data (X) to be provided with a specific array structure in the form of: [samples, time steps, features].\n",
    "\n",
    "Currently, our data is in the form: [samples, features] and we are framing the problem as one time step for each sample. We can transform the prepared train and test input data into the expected structure using numpy.reshape() as follows:"
   ]
  },
  {
   "cell_type": "code",
   "execution_count": 17,
   "metadata": {},
   "outputs": [],
   "source": [
    "# reshape input to be [samples, time steps, features]\n",
    "trainX = np.reshape(trainX, (trainX.shape[0], 1, trainX.shape[1]))\n",
    "testX = np.reshape(testX, (testX.shape[0], 1, testX.shape[1]))"
   ]
  },
  {
   "cell_type": "markdown",
   "metadata": {},
   "source": [
    "## Model Building"
   ]
  },
  {
   "cell_type": "code",
   "execution_count": 18,
   "metadata": {},
   "outputs": [
    {
     "name": "stderr",
     "output_type": "stream",
     "text": [
      "Using TensorFlow backend.\n"
     ]
    }
   ],
   "source": [
    "from keras.models import Sequential\n",
    "from keras.layers import Dense\n",
    "from keras.layers import LSTM\n",
    "from sklearn.metrics import mean_squared_error"
   ]
  },
  {
   "cell_type": "code",
   "execution_count": 19,
   "metadata": {},
   "outputs": [
    {
     "name": "stdout",
     "output_type": "stream",
     "text": [
      "Epoch 1/50\n",
      " - 5s - loss: 0.3119\n",
      "Epoch 2/50\n",
      " - 0s - loss: 0.1476\n",
      "Epoch 3/50\n",
      " - 0s - loss: 0.0636\n",
      "Epoch 4/50\n",
      " - 1s - loss: 0.0318\n",
      "Epoch 5/50\n",
      " - 1s - loss: 0.0224\n",
      "Epoch 6/50\n",
      " - 0s - loss: 0.0184\n",
      "Epoch 7/50\n",
      " - 1s - loss: 0.0157\n",
      "Epoch 8/50\n",
      " - 0s - loss: 0.0135\n",
      "Epoch 9/50\n",
      " - 1s - loss: 0.0114\n",
      "Epoch 10/50\n",
      " - 1s - loss: 0.0097\n",
      "Epoch 11/50\n",
      " - 1s - loss: 0.0084\n",
      "Epoch 12/50\n",
      " - 1s - loss: 0.0073\n",
      "Epoch 13/50\n",
      " - 1s - loss: 0.0064\n",
      "Epoch 14/50\n",
      " - 1s - loss: 0.0058\n",
      "Epoch 15/50\n",
      " - 1s - loss: 0.0053\n",
      "Epoch 16/50\n",
      " - 0s - loss: 0.0049\n",
      "Epoch 17/50\n",
      " - 0s - loss: 0.0047\n",
      "Epoch 18/50\n",
      " - 0s - loss: 0.0045\n",
      "Epoch 19/50\n",
      " - 0s - loss: 0.0043\n",
      "Epoch 20/50\n",
      " - 0s - loss: 0.0043\n",
      "Epoch 21/50\n",
      " - 0s - loss: 0.0042\n",
      "Epoch 22/50\n",
      " - 0s - loss: 0.0042\n",
      "Epoch 23/50\n",
      " - 0s - loss: 0.0041\n",
      "Epoch 24/50\n",
      " - 0s - loss: 0.0041\n",
      "Epoch 25/50\n",
      " - 0s - loss: 0.0040\n",
      "Epoch 26/50\n",
      " - 0s - loss: 0.0040\n",
      "Epoch 27/50\n",
      " - 0s - loss: 0.0040\n",
      "Epoch 28/50\n",
      " - 0s - loss: 0.0040\n",
      "Epoch 29/50\n",
      " - 0s - loss: 0.0040\n",
      "Epoch 30/50\n",
      " - 0s - loss: 0.0039\n",
      "Epoch 31/50\n",
      " - 0s - loss: 0.0039\n",
      "Epoch 32/50\n",
      " - 0s - loss: 0.0039\n",
      "Epoch 33/50\n",
      " - 0s - loss: 0.0038\n",
      "Epoch 34/50\n",
      " - 0s - loss: 0.0039\n",
      "Epoch 35/50\n",
      " - 0s - loss: 0.0038\n",
      "Epoch 36/50\n",
      " - 0s - loss: 0.0038\n",
      "Epoch 37/50\n",
      " - 0s - loss: 0.0037\n",
      "Epoch 38/50\n",
      " - 0s - loss: 0.0037\n",
      "Epoch 39/50\n",
      " - 0s - loss: 0.0037\n",
      "Epoch 40/50\n",
      " - 0s - loss: 0.0037\n",
      "Epoch 41/50\n",
      " - 0s - loss: 0.0036\n",
      "Epoch 42/50\n",
      " - 0s - loss: 0.0036\n",
      "Epoch 43/50\n",
      " - 0s - loss: 0.0036\n",
      "Epoch 44/50\n",
      " - 0s - loss: 0.0036\n",
      "Epoch 45/50\n",
      " - 0s - loss: 0.0040\n",
      "Epoch 46/50\n",
      " - 0s - loss: 0.0035\n",
      "Epoch 47/50\n",
      " - 0s - loss: 0.0035\n",
      "Epoch 48/50\n",
      " - 0s - loss: 0.0035\n",
      "Epoch 49/50\n",
      " - 0s - loss: 0.0037\n",
      "Epoch 50/50\n",
      " - 0s - loss: 0.0034\n"
     ]
    },
    {
     "data": {
      "text/plain": [
       "<keras.callbacks.callbacks.History at 0x1a478b5550>"
      ]
     },
     "execution_count": 19,
     "metadata": {},
     "output_type": "execute_result"
    }
   ],
   "source": [
    "# create and fit the LSTM network\n",
    "model = Sequential()\n",
    "model.add(LSTM(4, input_shape=(1, look_back)))\n",
    "model.add(Dense(1))\n",
    "model.compile(loss='mean_squared_error', optimizer='adam')\n",
    "model.fit(trainX, trainY, epochs=50, batch_size=1, verbose=2)"
   ]
  },
  {
   "cell_type": "markdown",
   "metadata": {},
   "source": [
    "## Evaluation"
   ]
  },
  {
   "cell_type": "code",
   "execution_count": 20,
   "metadata": {},
   "outputs": [],
   "source": [
    "import math"
   ]
  },
  {
   "cell_type": "code",
   "execution_count": 21,
   "metadata": {},
   "outputs": [],
   "source": [
    "# make evaluation\n",
    "trainPredict = model.predict(trainX)\n",
    "testPredict = model.predict(testX)"
   ]
  },
  {
   "cell_type": "markdown",
   "metadata": {},
   "source": [
    "### Fix operands issue"
   ]
  },
  {
   "cell_type": "code",
   "execution_count": 22,
   "metadata": {},
   "outputs": [],
   "source": [
    "# assign to new scaler, to avoid operands issue\n",
    "scale = MinMaxScaler()\n",
    "scale.min_, scale.scale_ = scaler.min_[0], scaler.scale_[1]"
   ]
  },
  {
   "cell_type": "markdown",
   "metadata": {},
   "source": [
    "### Invert the Normalizer"
   ]
  },
  {
   "cell_type": "code",
   "execution_count": 23,
   "metadata": {},
   "outputs": [],
   "source": [
    "# invert evaluation\n",
    "trainPredict = scale.inverse_transform(trainPredict)\n",
    "trainY = scale.inverse_transform([trainY])\n",
    "testPredict = scale.inverse_transform(testPredict)\n",
    "testY = scale.inverse_transform([testY])"
   ]
  },
  {
   "cell_type": "code",
   "execution_count": 24,
   "metadata": {},
   "outputs": [
    {
     "name": "stdout",
     "output_type": "stream",
     "text": [
      "Train Score: 144.33 RMSE\n",
      "Test Score: 159.37 RMSE\n"
     ]
    }
   ],
   "source": [
    "# calculate root mean squared error\n",
    "trainScore = math.sqrt(mean_squared_error(trainY[0], trainPredict[:,0]))\n",
    "print('Train Score: %.2f RMSE' % (trainScore))\n",
    "testScore = math.sqrt(mean_squared_error(testY[0], testPredict[:,0]))\n",
    "print('Test Score: %.2f RMSE' % (testScore))"
   ]
  },
  {
   "cell_type": "markdown",
   "metadata": {},
   "source": [
    "## Post Processing"
   ]
  },
  {
   "cell_type": "code",
   "execution_count": 25,
   "metadata": {},
   "outputs": [],
   "source": [
    "base_line = stock_daily_data.reset_index(drop=True)\n",
    "current_prediction_dataset = base_line.drop(columns=['volume', 'timestamp'])\n",
    "current_prediction_dataset = scaler.fit_transform(current_prediction_dataset)"
   ]
  },
  {
   "cell_type": "code",
   "execution_count": 26,
   "metadata": {},
   "outputs": [],
   "source": [
    "current_prediction_dataset = np.asarray(current_prediction_dataset)\n",
    "current_prediction_data_setX, current_prediction_data_setY = create_dataset(current_prediction_dataset, look_back)"
   ]
  },
  {
   "cell_type": "code",
   "execution_count": 27,
   "metadata": {},
   "outputs": [],
   "source": [
    "current_prediction_data_setX = np.reshape(current_prediction_data_setX, (current_prediction_data_setX.shape[0], 1, current_prediction_data_setX.shape[1]))"
   ]
  },
  {
   "cell_type": "markdown",
   "metadata": {},
   "source": [
    "### predict the actual result"
   ]
  },
  {
   "cell_type": "code",
   "execution_count": 28,
   "metadata": {},
   "outputs": [],
   "source": [
    "result = model.predict(current_prediction_data_setX)\n",
    "result = scale.inverse_transform(result)"
   ]
  },
  {
   "cell_type": "markdown",
   "metadata": {},
   "source": [
    "## Plotting"
   ]
  },
  {
   "cell_type": "code",
   "execution_count": 29,
   "metadata": {},
   "outputs": [
    {
     "data": {
      "image/png": "[encoded data removed]",
      "text/plain": [
       "<Figure size 432x288 with 1 Axes>"
      ]
     },
     "metadata": {
      "needs_background": "light"
     },
     "output_type": "display_data"
    }
   ],
   "source": [
    "# plot baseline and predictions\n",
    "\n",
    "future_prediction = result[~future_days:]\n",
    "\n",
    "plt.plot(future_prediction)\n",
    "\n",
    "for index, value in enumerate(future_prediction):\n",
    "    plt.text(index,value,f\"price = {int(value)}\")\n",
    "\n",
    "plt.show()"
   ]
  },
  {
   "cell_type": "code",
   "execution_count": null,
   "metadata": {},
   "outputs": [],
   "source": []
  }
 ],
 "metadata": {
  "kernelspec": {
   "display_name": "tf",
   "language": "python",
   "name": "tf"
  },
  "language_info": {
   "codemirror_mode": {
    "name": "ipython",
    "version": 3
   },
   "file_extension": ".py",
   "mimetype": "text/x-python",
   "name": "python",
   "nbconvert_exporter": "python",
   "pygments_lexer": "ipython3",
   "version": "3.7.7"
  }
 },
 "nbformat": 4,
 "nbformat_minor": 4
}
